{
 "cells": [
  {
   "cell_type": "code",
   "execution_count": 3,
   "id": "96069a12-38f7-43da-b367-2b99690de9ca",
   "metadata": {},
   "outputs": [
    {
     "name": "stdout",
     "output_type": "stream",
     "text": [
      "[ 1  2  3  4  5  6  7  8  9 10]\n"
     ]
    }
   ],
   "source": [
    "import numpy as np\n",
    "\n",
    "natural_numbers = np.arange(1,11)\n",
    "print(natural_numbers)"
   ]
  },
  {
   "cell_type": "code",
   "execution_count": 4,
   "id": "73dd4c5b-8691-4eca-8167-5ea00f8024a0",
   "metadata": {},
   "outputs": [
    {
     "name": "stdout",
     "output_type": "stream",
     "text": [
      "[[0. 0. 0.]\n",
      " [0. 0. 0.]\n",
      " [0. 0. 0.]]\n"
     ]
    }
   ],
   "source": [
    "import numpy as np\n",
    "\n",
    "matrix = np.zeros((3,3))\n",
    "\n",
    "print(matrix)\n"
   ]
  },
  {
   "cell_type": "code",
   "execution_count": 5,
   "id": "e707a3a7-7bd1-4464-badd-43eb2088892c",
   "metadata": {},
   "outputs": [
    {
     "name": "stdout",
     "output_type": "stream",
     "text": [
      "[[ 3  8  2  6  3]\n",
      " [10  8  5  4  7]\n",
      " [ 3 10  1  2  3]\n",
      " [ 2  3  3 10 10]\n",
      " [ 6  5  8  2  5]]\n"
     ]
    }
   ],
   "source": [
    "import numpy as np\n",
    "\n",
    "matrix = np.random.randint(1, 11, size=(5, 5))\n",
    "\n",
    "print(matrix)"
   ]
  },
  {
   "cell_type": "code",
   "execution_count": 6,
   "id": "78dec21b-7cf8-4664-bedb-85e5dbce94ca",
   "metadata": {},
   "outputs": [
    {
     "name": "stdout",
     "output_type": "stream",
     "text": [
      "[[0.29133764 0.94126051 0.6548791  0.7445637 ]\n",
      " [0.52627747 0.10060627 0.94045333 0.83680539]\n",
      " [0.55155529 0.65486523 0.50324534 0.58438161]\n",
      " [0.965548   0.68246078 0.37499528 0.38713718]]\n"
     ]
    }
   ],
   "source": [
    "import numpy as np\n",
    "\n",
    "matrix = np.random.rand(4,4)\n",
    "\n",
    "print(matrix)"
   ]
  },
  {
   "cell_type": "code",
   "execution_count": 7,
   "id": "530394ab-045e-42b2-84ff-69f2b651f507",
   "metadata": {},
   "outputs": [
    {
     "name": "stdout",
     "output_type": "stream",
     "text": [
      "Масив 1: [6 8 2 9 8]\n",
      "Масив 2: [ 9 10  1  2 10]\n",
      "Результат додавання: [15 18  3 11 18]\n",
      "Результат віднімання: [-3 -2  1  7 -2]\n",
      "Результат множення: [54 80  2 18 80]\n"
     ]
    }
   ],
   "source": [
    "import numpy as np\n",
    "\n",
    "array1 = np.random.randint(1, 11, size=5)\n",
    "array2 = np.random.randint(1, 11, size=5)\n",
    "\n",
    "print(\"Масив 1:\", array1)\n",
    "print(\"Масив 2:\", array2)\n",
    "\n",
    "addition_result = array1 + array2\n",
    "print(\"Результат додавання:\", addition_result)\n",
    "\n",
    "subtraction_result = array1 - array2\n",
    "print(\"Результат віднімання:\", subtraction_result)\n",
    "\n",
    "multiplication_result = array1 * array2\n",
    "print(\"Результат множення:\", multiplication_result)"
   ]
  },
  {
   "cell_type": "code",
   "execution_count": 8,
   "id": "0fece932-635b-4d9a-9716-62e99279be21",
   "metadata": {},
   "outputs": [
    {
     "name": "stdout",
     "output_type": "stream",
     "text": [
      "[6 8 2 9 8]\n",
      "[ 9 10  1  2 10]\n",
      "1.2691663803004198\n"
     ]
    }
   ],
   "source": [
    "import numpy as np\n",
    "\n",
    "vector1 = np.random.rand(7)\n",
    "vector2 = np.random.rand(7)\n",
    "\n",
    "print(array1)\n",
    "print(array2)\n",
    "\n",
    "scalar = np.dot(vector1, vector2)\n",
    "print(scalar)"
   ]
  },
  {
   "cell_type": "code",
   "execution_count": 9,
   "id": "82defbe2-e4ec-4ff3-94e2-78ca57cbc2b0",
   "metadata": {},
   "outputs": [
    {
     "name": "stdout",
     "output_type": "stream",
     "text": [
      "[[10  4]\n",
      " [ 1  7]]\n",
      "[[6 8 3]\n",
      " [9 6 7]]\n",
      "[[ 96 104  58]\n",
      " [ 69  50  52]]\n"
     ]
    }
   ],
   "source": [
    "import numpy as np\n",
    "\n",
    "matrix1 = np.random.randint(1, 11, size=(2, 2))\n",
    "matrix2 = np.random.randint(1, 11, size=(2, 3))\n",
    "\n",
    "print(matrix1)\n",
    "print(matrix2)\n",
    "\n",
    "scalar = np.dot(matrix1,matrix2)\n",
    "print(scalar)\n"
   ]
  },
  {
   "cell_type": "code",
   "execution_count": 10,
   "id": "6c14d558-1278-4989-a06d-6748e0c4269c",
   "metadata": {},
   "outputs": [
    {
     "name": "stdout",
     "output_type": "stream",
     "text": [
      "[[5 2 8]\n",
      " [2 7 2]\n",
      " [7 5 7]]\n",
      "[[-0.33333333 -0.22222222  0.44444444]\n",
      " [ 0.          0.17948718 -0.05128205]\n",
      " [ 0.33333333  0.09401709 -0.26495726]]\n"
     ]
    }
   ],
   "source": [
    "import numpy as np\n",
    "\n",
    "matrix = np.random.randint(1,11, size=(3,3))\n",
    "\n",
    "print(matrix)\n",
    "\n",
    "reverse_matrix = np.linalg.inv(matrix)\n",
    "\n",
    "print(reverse_matrix)"
   ]
  },
  {
   "cell_type": "code",
   "execution_count": 11,
   "id": "6104e395-eeb9-4611-bc83-cbee9859482f",
   "metadata": {},
   "outputs": [
    {
     "name": "stdout",
     "output_type": "stream",
     "text": [
      "[[0.43088036 0.69567315 0.43387678 0.22690882]\n",
      " [0.35534709 0.43255467 0.90677179 0.86663282]\n",
      " [0.94733644 0.66629163 0.64969074 0.74773194]\n",
      " [0.1447764  0.23308949 0.26633643 0.39237458]]\n",
      "[[0.43088036 0.35534709 0.94733644 0.1447764 ]\n",
      " [0.69567315 0.43255467 0.66629163 0.23308949]\n",
      " [0.43387678 0.90677179 0.64969074 0.26633643]\n",
      " [0.22690882 0.86663282 0.74773194 0.39237458]]\n"
     ]
    }
   ],
   "source": [
    "import numpy as np\n",
    "\n",
    "matrix = np.random.rand(4, 4)\n",
    "print(matrix)\n",
    "\n",
    "transposed_matrix = np.transpose(matrix)\n",
    "print(transposed_matrix)"
   ]
  },
  {
   "cell_type": "code",
   "execution_count": 12,
   "id": "47d19dff-8116-4075-b398-e7a19e150f99",
   "metadata": {},
   "outputs": [
    {
     "name": "stdout",
     "output_type": "stream",
     "text": [
      "[[ 4  7  2  6]\n",
      " [ 4 10 10 10]\n",
      " [ 2  6  7  3]]\n",
      "[10  3 10  4]\n",
      "[105 210 120]\n"
     ]
    }
   ],
   "source": [
    "import numpy as np\n",
    "\n",
    "matrix = np.random.randint(1, 11, size=(3, 4))\n",
    "vector = np.random.randint(1, 11, size=4)\n",
    "print(matrix)\n",
    "print(vector)\n",
    "\n",
    "result = np.dot(matrix, vector)\n",
    "print(result)"
   ]
  },
  {
   "cell_type": "code",
   "execution_count": 13,
   "id": "af7ea006-0b63-4e82-9c47-1281a6e1608c",
   "metadata": {},
   "outputs": [
    {
     "name": "stdout",
     "output_type": "stream",
     "text": [
      "[[0.30749939 0.80201081 0.49163669]\n",
      " [0.58726272 0.80825694 0.06972643]]\n",
      "[0.61173273 0.29787205 0.65663887]\n",
      "[0.7498318  0.64579006]\n"
     ]
    }
   ],
   "source": [
    "import numpy as np\n",
    "\n",
    "matrix = np.random.rand(2, 3)\n",
    "vector = np.random.rand(3)\n",
    "print(matrix)\n",
    "print(vector)\n",
    "result = np.dot(matrix, vector)\n",
    "print(result)"
   ]
  },
  {
   "cell_type": "code",
   "execution_count": 14,
   "id": "3257f985-b808-40a6-8797-02309f17bdfb",
   "metadata": {},
   "outputs": [
    {
     "name": "stdout",
     "output_type": "stream",
     "text": [
      "[[ 6  2]\n",
      " [ 9 10]]\n",
      "[[6 9]\n",
      " [9 2]]\n",
      "[[36 18]\n",
      " [81 20]]\n"
     ]
    }
   ],
   "source": [
    "import numpy as np\n",
    "\n",
    "matrix1 = np.random.randint(1, 11, size=(2, 2))\n",
    "matrix2 = np.random.randint(1, 11, size=(2, 2))\n",
    "print(matrix1)\n",
    "print(matrix2)\n",
    "\n",
    "elementwise_matrix = np.multiply(matrix1, matrix2)\n",
    "print(elementwise_matrix)"
   ]
  },
  {
   "cell_type": "code",
   "execution_count": 15,
   "id": "2ba36adb-a651-4f3d-89be-48e0932e8479",
   "metadata": {},
   "outputs": [
    {
     "name": "stdout",
     "output_type": "stream",
     "text": [
      "[[6 2]\n",
      " [4 4]]\n",
      "[[ 5 10]\n",
      " [ 5  1]]\n",
      "[[40 62]\n",
      " [40 44]]\n"
     ]
    }
   ],
   "source": [
    "import numpy as np\n",
    "\n",
    "matrix1 = np.random.randint(1, 11, size=(2, 2))\n",
    "matrix2 = np.random.randint(1, 11, size=(2, 2))\n",
    "print(matrix1)\n",
    "print(matrix2)\n",
    "\n",
    "matrix_product = np.dot(matrix1, matrix2)\n",
    "print(matrix_product)"
   ]
  },
  {
   "cell_type": "code",
   "execution_count": 16,
   "id": "3e44d3cc-cb74-4d94-8c3a-62b1c6662ac8",
   "metadata": {},
   "outputs": [
    {
     "name": "stdout",
     "output_type": "stream",
     "text": [
      "[[70 20 30 22 61]\n",
      " [37 76 49 42 34]\n",
      " [55 77 34  5 64]\n",
      " [46 49 84 53  6]\n",
      " [34 13 74 60 96]]\n",
      "\n",
      "Сума елементів матриці: 1191\n"
     ]
    }
   ],
   "source": [
    "import numpy as np\n",
    "\n",
    "matrix = np.random.randint(1, 101, size=(5, 5))\n",
    "print(matrix)\n",
    "\n",
    "matrix_sum = np.sum(matrix)\n",
    "print(\"\\nСума елементів матриці:\", matrix_sum)"
   ]
  },
  {
   "cell_type": "code",
   "execution_count": 17,
   "id": "ff060887-0239-4c9c-af1d-9995b173aa48",
   "metadata": {},
   "outputs": [
    {
     "name": "stdout",
     "output_type": "stream",
     "text": [
      "[[5 4 4 2]\n",
      " [7 9 3 2]\n",
      " [7 2 9 1]\n",
      " [4 6 4 8]]\n",
      "[[6 8 2 6]\n",
      " [1 9 9 4]\n",
      " [7 7 8 8]\n",
      " [4 7 9 7]]\n",
      "[[-1 -4  2 -4]\n",
      " [ 6  0 -6 -2]\n",
      " [ 0 -5  1 -7]\n",
      " [ 0 -1 -5  1]]\n"
     ]
    }
   ],
   "source": [
    "import numpy as np\n",
    "\n",
    "matrix1 = np.random.randint(1, 11, size=(4, 4))\n",
    "matrix2 = np.random.randint(1, 11, size=(4, 4))\n",
    "\n",
    "print(matrix1)\n",
    "print(matrix2)\n",
    "\n",
    "matrix_difference = matrix1 - matrix2\n",
    "print(matrix_difference)"
   ]
  },
  {
   "cell_type": "code",
   "execution_count": 18,
   "id": "72d70f5c-6b01-4366-b8aa-3de9ddc636c4",
   "metadata": {},
   "outputs": [
    {
     "name": "stdout",
     "output_type": "stream",
     "text": [
      "[[0.52593374 0.67002906 0.29612653]\n",
      " [0.94990013 0.62321223 0.96560817]\n",
      " [0.46250344 0.64899096 0.98725374]]\n",
      "[[1.49208933]\n",
      " [2.53872053]\n",
      " [2.09874815]]\n"
     ]
    }
   ],
   "source": [
    "import numpy as np\n",
    "\n",
    "matrix = np.random.rand(3, 3)\n",
    "print(matrix)\n",
    "\n",
    "row_sum_vector = np.sum(matrix, axis=1, keepdims=True)\n",
    "print(row_sum_vector)"
   ]
  },
  {
   "cell_type": "code",
   "execution_count": 19,
   "id": "33476cc1-b81e-439e-92d3-648e7a57fdc0",
   "metadata": {},
   "outputs": [
    {
     "name": "stdout",
     "output_type": "stream",
     "text": [
      "[[ 5 10  2  3]\n",
      " [10  2  2  1]\n",
      " [ 4  7  5  4]]\n",
      "[[ 25 100   4   9]\n",
      " [100   4   4   1]\n",
      " [ 16  49  25  16]]\n"
     ]
    }
   ],
   "source": [
    "import numpy as np\n",
    "\n",
    "matrix = np.random.randint(1, 11, size=(3, 4))\n",
    "print(matrix)\n",
    "\n",
    "squared_matrix = np.square(matrix)\n",
    "\n",
    "print(squared_matrix)"
   ]
  },
  {
   "cell_type": "code",
   "execution_count": 20,
   "id": "d3262fb0-9096-44be-9e6a-4ef4a6aa3a62",
   "metadata": {},
   "outputs": [
    {
     "name": "stdout",
     "output_type": "stream",
     "text": [
      "[37 42 22 24]\n",
      "[6.08276253 6.4807407  4.69041576 4.89897949]\n"
     ]
    }
   ],
   "source": [
    "import numpy as np\n",
    "\n",
    "vector = np.random.randint(1, 51, size=4)\n",
    "print(vector)\n",
    "sqrt_vector = np.sqrt(vector)\n",
    "print(sqrt_vector)"
   ]
  },
  {
   "cell_type": "code",
   "execution_count": null,
   "id": "644ec27a-e54d-4887-8fbf-e0011b5bace1",
   "metadata": {},
   "outputs": [],
   "source": []
  }
 ],
 "metadata": {
  "kernelspec": {
   "display_name": "Python 3 (ipykernel)",
   "language": "python",
   "name": "python3"
  },
  "language_info": {
   "codemirror_mode": {
    "name": "ipython",
    "version": 3
   },
   "file_extension": ".py",
   "mimetype": "text/x-python",
   "name": "python",
   "nbconvert_exporter": "python",
   "pygments_lexer": "ipython3",
   "version": "3.10.8"
  }
 },
 "nbformat": 4,
 "nbformat_minor": 5
}
