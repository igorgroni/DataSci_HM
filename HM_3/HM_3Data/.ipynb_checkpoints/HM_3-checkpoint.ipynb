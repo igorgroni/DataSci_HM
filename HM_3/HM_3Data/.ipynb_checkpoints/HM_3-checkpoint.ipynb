{
 "cells": [
  {
   "cell_type": "code",
   "execution_count": 6,
   "id": "ab620888-5751-42da-bb2d-13d14a0cc3a6",
   "metadata": {},
   "outputs": [],
   "source": [
    "import numpy as np\n",
    "\n",
    "# напишіть функцію гіпотези лінійної регресії у векторному вигляді;\n",
    "\n",
    "def hypothesis(X, w):\n",
    "    return np.dot(X, w)"
   ]
  },
  {
   "cell_type": "code",
   "execution_count": 5,
   "id": "1fc01ced-eeec-46cc-b3cd-ac94050d063f",
   "metadata": {},
   "outputs": [],
   "source": [
    "# створіть функцію для обчислення функції втрат у векторному вигляді;\n",
    "import numpy as np\n",
    "\n"
   ]
  },
  {
   "cell_type": "code",
   "execution_count": null,
   "id": "9964e6cb-0419-41d0-ad03-ff613ded49e4",
   "metadata": {},
   "outputs": [],
   "source": []
  }
 ],
 "metadata": {
  "kernelspec": {
   "display_name": "Python 3 (ipykernel)",
   "language": "python",
   "name": "python3"
  },
  "language_info": {
   "codemirror_mode": {
    "name": "ipython",
    "version": 3
   },
   "file_extension": ".py",
   "mimetype": "text/x-python",
   "name": "python",
   "nbconvert_exporter": "python",
   "pygments_lexer": "ipython3",
   "version": "3.10.8"
  }
 },
 "nbformat": 4,
 "nbformat_minor": 5
}
