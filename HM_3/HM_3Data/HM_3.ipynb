{
 "cells": [
  {
   "cell_type": "code",
   "execution_count": 6,
   "id": "ab620888-5751-42da-bb2d-13d14a0cc3a6",
   "metadata": {},
   "outputs": [],
   "source": [
    "import numpy as np\n",
    "\n",
    "# напишіть функцію гіпотези лінійної регресії у векторному вигляді;\n",
    "\n",
    "def hypothesis(X, w):\n",
    "    return np.dot(X, w)"
   ]
  },
  {
   "cell_type": "code",
   "execution_count": 11,
   "id": "1fc01ced-eeec-46cc-b3cd-ac94050d063f",
   "metadata": {},
   "outputs": [],
   "source": [
    "# створіть функцію для обчислення функції втрат у векторному вигляді;\n",
    "def loss_function(X, y, w):\n",
    "    return np.square(h(X, w) - y).sum() / (2 * len(X))"
   ]
  },
  {
   "cell_type": "code",
   "execution_count": 14,
   "id": "9964e6cb-0419-41d0-ad03-ff613ded49e4",
   "metadata": {},
   "outputs": [],
   "source": [
    "# реалізуйте один крок градієнтного спуску;\n",
    "\n",
    "def gradient_descent_step(X, y, w, learning_rate):\n",
    "    m = len(y)\n",
    "    predictions = hypothesis(X, w)\n",
    "    gradient = (1/m) * np.dot(X.T, (predictions - y))\n",
    "    w = w - learning_rate * gradient\n",
    "    return w"
   ]
  },
  {
   "cell_type": "code",
   "execution_count": 15,
   "id": "40fb11b9-1220-4d9c-bea9-6742a2cd4823",
   "metadata": {},
   "outputs": [],
   "source": [
    "def linear_regression_gradient_descent(X, y, learning_rate, num_iterations):\n",
    "    m, n = X.shape\n",
    "    w = np.zeros(n)\n",
    "    \n",
    "    for i in range(num_iterations):\n",
    "        w = gradient_descent_step(X, y, w, learning_rate)\n",
    "        loss = compute_loss(X, y, w)\n",
    "        \n",
    "        if i % 100 == 0:\n",
    "            print(f'Iteration {i}, Loss: {loss}')\n",
    "    \n",
    "    return w"
   ]
  },
  {
   "cell_type": "code",
   "execution_count": 25,
   "id": "6008c83b-3b8b-47f1-bc70-2d3b3a6b2987",
   "metadata": {},
   "outputs": [
    {
     "name": "stdout",
     "output_type": "stream",
     "text": [
      "Coefficients: [3.45466570e+02 3.60197650e+05 1.42231966e+06]\n",
      "Intercept: 59485.379208716564\n",
      "Mean Squared Error: 2750040479309.0513\n"
     ]
    }
   ],
   "source": [
    "# знайдіть найкращі параметри $\\vec{w}$ \n",
    "# для датасету прогнозуючу ціну на будинок залежно від площі, кількості ванних кімнат та кількості спалень;\n",
    "import pandas as pd\n",
    "from sklearn.model_selection import train_test_split\n",
    "from sklearn.linear_model import LinearRegression\n",
    "from sklearn.metrics import mean_squared_error\n",
    "from sklearn.preprocessing import LabelEncoder\n",
    "\n",
    "df = pd.read_csv('Housing.csv')\n",
    "\n",
    "# Перетворюємо категоріальні ознаки в числові\n",
    "le = LabelEncoder()\n",
    "df['mainroad'] = le.fit_transform(df['mainroad'])\n",
    "df['guestroom'] = le.fit_transform(df['guestroom'])\n",
    "df['basement'] = le.fit_transform(df['basement'])\n",
    "df['hotwaterheating'] = le.fit_transform(df['hotwaterheating'])\n",
    "df['airconditioning'] = le.fit_transform(df['airconditioning'])\n",
    "df['prefarea'] = le.fit_transform(df['prefarea'])\n",
    "df['furnishingstatus'] = le.fit_transform(df['furnishingstatus'])\n",
    "\n",
    "# Розділяємо дані на ознаки та цільову змінну\n",
    "X = df[['area', 'bedrooms', 'bathrooms']]\n",
    "y = df['price']\n",
    "\n",
    "# Розділяємо дані на навчальний та тестовий набори\n",
    "X_train, X_test, y_train, y_test = train_test_split(X, y, test_size=0.2, random_state=42)\n",
    "\n",
    "# Створюємо та навчаємо модель лінійної регресії\n",
    "model = LinearRegression()\n",
    "model.fit(X_train, y_train)\n",
    "\n",
    "# Перевіряємо якість моделі на тестовому наборі\n",
    "y_pred = model.predict(X_test)\n",
    "mse = mean_squared_error(y_test, y_pred)\n",
    "\n",
    "print(\"Coefficients:\", model.coef_)\n",
    "print(\"Intercept:\", model.intercept_)\n",
    "print(\"Mean Squared Error:\", mse)"
   ]
  },
  {
   "cell_type": "code",
   "execution_count": 26,
   "id": "19f80dba-08d8-4f06-afb0-7e111f3c3b07",
   "metadata": {},
   "outputs": [
    {
     "name": "stdout",
     "output_type": "stream",
     "text": [
      "Parameters from Analytical Solution: [3.72448352e+02 3.68974672e+05 1.37031315e+06]\n"
     ]
    }
   ],
   "source": [
    "def linear_regression_analytical_solution(X, y):\n",
    "    w = np.linalg.inv(X.T @ X) @ X.T @ y\n",
    "    return w\n",
    "\n",
    "# Аналітичне рішення\n",
    "w_analytical_solution = linear_regression_analytical_solution(X.values, y.values)\n",
    "\n",
    "print(f'Parameters from Analytical Solution: {w_analytical_solution}')"
   ]
  },
  {
   "cell_type": "code",
   "execution_count": 27,
   "id": "930e2ada-cfcf-4099-890e-530c4382f6f0",
   "metadata": {},
   "outputs": [
    {
     "name": "stdout",
     "output_type": "stream",
     "text": [
      "Parameters from Gradient Descent: [nan nan nan nan]\n",
      "Parameters from Analytical Solution: [3.72448352e+02 3.68974672e+05 1.37031315e+06]\n"
     ]
    }
   ],
   "source": [
    "# Порівняння результатів\n",
    "print(f'Parameters from Gradient Descent: {w_gradient_descent}')\n",
    "print(f'Parameters from Analytical Solution: {w_analytical_solution}')"
   ]
  },
  {
   "cell_type": "code",
   "execution_count": null,
   "id": "3d914d57-d63b-4a2c-9894-dbcd240cc95a",
   "metadata": {},
   "outputs": [],
   "source": []
  }
 ],
 "metadata": {
  "kernelspec": {
   "display_name": "Python 3 (ipykernel)",
   "language": "python",
   "name": "python3"
  },
  "language_info": {
   "codemirror_mode": {
    "name": "ipython",
    "version": 3
   },
   "file_extension": ".py",
   "mimetype": "text/x-python",
   "name": "python",
   "nbconvert_exporter": "python",
   "pygments_lexer": "ipython3",
   "version": "3.10.8"
  }
 },
 "nbformat": 4,
 "nbformat_minor": 5
}
